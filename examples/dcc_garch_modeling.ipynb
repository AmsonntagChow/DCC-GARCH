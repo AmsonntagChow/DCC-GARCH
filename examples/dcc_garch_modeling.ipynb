{
 "cells": [
  {
   "cell_type": "code",
   "execution_count": 1,
   "metadata": {},
   "outputs": [],
   "source": [
    "import numpy as np\n",
    "import pandas as pd"
   ]
  },
  {
   "cell_type": "markdown",
   "metadata": {},
   "source": [
    "**I implemented the DCC-GARCH model on the daily returns of S&P500 index and of JP Morgan Chase & Co.**\n",
    "\n",
    "**The trading data from 2010/01/01 to 2019/12/31 was downloaded from Yahoo Finance.**"
   ]
  },
  {
   "cell_type": "code",
   "execution_count": 2,
   "metadata": {
    "scrolled": false
   },
   "outputs": [],
   "source": [
    "sp = pd.read_csv('data/^GSPC.csv').set_index('Date')\n",
    "jpm = pd.read_csv('data/JPM.csv').set_index('Date')"
   ]
  },
  {
   "cell_type": "code",
   "execution_count": 5,
   "metadata": {},
   "outputs": [
    {
     "data": {
      "text/plain": [
       "<matplotlib.axes._subplots.AxesSubplot at 0x197119557b8>"
      ]
     },
     "execution_count": 5,
     "metadata": {},
     "output_type": "execute_result"
    },
    {
     "data": {
      "image/png": "[encoded data removed]",
      "text/plain": [
       "<Figure size 432x288 with 1 Axes>"
      ]
     },
     "metadata": {},
     "output_type": "display_data"
    }
   ],
   "source": [
    "sp['Adj Close'].plot() # simple plot for S&P500 index"
   ]
  },
  {
   "cell_type": "code",
   "execution_count": 4,
   "metadata": {},
   "outputs": [
    {
     "data": {
      "text/plain": [
       "<matplotlib.axes._subplots.AxesSubplot at 0x197117a07b8>"
      ]
     },
     "execution_count": 4,
     "metadata": {},
     "output_type": "execute_result"
    },
    {
     "data": {
      "image/png": "[encoded data removed]",
      "text/plain": [
       "<Figure size 432x288 with 1 Axes>"
      ]
     },
     "metadata": {},
     "output_type": "display_data"
    }
   ],
   "source": [
    "jpm['Adj Close'].plot() # simple plot for JP Morgan Chase & Co."
   ]
  },
  {
   "cell_type": "code",
   "execution_count": 32,
   "metadata": {},
   "outputs": [],
   "source": [
    "sp_return = np.log(sp['Adj Close']).diff().dropna() # log return of S&P500 index\n",
    "jpm_return = np.log(jpm['Adj Close']).diff().dropna() # log return of JP Morgan Chase & Co."
   ]
  },
  {
   "cell_type": "code",
   "execution_count": 33,
   "metadata": {},
   "outputs": [],
   "source": [
    "sp_return = sp_return.iloc[::-1] # the latest data should come first\n",
    "jpm_return = jpm_return.iloc[::-1] # the latest data should come first"
   ]
  },
  {
   "cell_type": "markdown",
   "metadata": {},
   "source": [
    "**In accord with _Multivariate DCC-GARCH Model (Elisabeth Orskaug, 2009)_, a GARCH model was first fitted for each log return separately and then a DCC model was fitted for the cross-correlation between the two time series. Additionally, I used threhold GARCH (usually abbreviated to TGARCH) in order to better capture the asymmetry of the stock volatility.**\n",
    "\n",
    "**The structure of the entire model can be written down as follows:**\n",
    "\n",
    "\\begin{align}\n",
    "&\\left[\\begin{array}{c}\n",
    "     r_{sp,t} \\\\\n",
    "     r_{jpm,t} \n",
    "     \\end{array}\\right]  \\sim N(0,H_t) \\\\\n",
    "&H_t  = \n",
    "     \\left[\\begin{array}{cc}\n",
    "     \\sigma_{sp,t} & 0 \\\\\n",
    "     0 & \\sigma_{jpm,t} \n",
    "     \\end{array}\\right]\n",
    "     \\left[\\begin{array}{cc}\n",
    "     1 & \\rho_t \\\\\n",
    "     \\rho_t & 1 \n",
    "     \\end{array}\\right]\n",
    "     \\left[\\begin{array}{cc}\n",
    "     \\sigma_{sp,t} & 0 \\\\\n",
    "     0 & \\sigma_{jpm,t} \n",
    "     \\end{array}\\right] = \n",
    "     \\left[\\begin{array}{cc}\n",
    "     \\sigma_{sp,t} & 0 \\\\\n",
    "     0 & \\sigma_{jpm,t} \n",
    "     \\end{array}\\right] \n",
    "     R_t\n",
    "     \\left[\\begin{array}{cc}\n",
    "     \\sigma_{sp,t} & 0 \\\\\n",
    "     0 & \\sigma_{jpm,t} \n",
    "     \\end{array}\\right]\\\\\n",
    "&R_t  = \n",
    "     \\left[\\begin{array}{cc}\n",
    "     \\frac{1}{\\sqrt{q_{11,t}}} & 0 \\\\\n",
    "     0 & \\frac{1}{\\sqrt{q_{22,t}}}\n",
    "     \\end{array}\\right] \n",
    "     \\left[\\begin{array}{cc}\n",
    "     q_{11,t} & q_{12,t} \\\\\n",
    "     q_{12,t} & q_{22,t}\n",
    "     \\end{array}\\right] \n",
    "     \\left[\\begin{array}{cc}\n",
    "     \\frac{1}{\\sqrt{q_{11,t}}} & 0 \\\\\n",
    "     0 & \\frac{1}{\\sqrt{q_{22,t}}}\n",
    "     \\end{array}\\right] =\n",
    "     \\left[\\begin{array}{cc}\n",
    "     \\frac{1}{\\sqrt{q_{11,t}}} & 0 \\\\\n",
    "     0 & \\frac{1}{\\sqrt{q_{22,t}}}\n",
    "     \\end{array}\\right]\n",
    "     Q_t\n",
    "     \\left[\\begin{array}{cc}\n",
    "     \\frac{1}{\\sqrt{q_{11,t}}} & 0 \\\\\n",
    "     0 & \\frac{1}{\\sqrt{q_{22,t}}}\n",
    "     \\end{array}\\right]\\\\\n",
    "&\\sigma_{sp,t}^2 = \\omega_{sp} + \\alpha_{sp}\\cdot r_{sp,t-1}^2 + \\gamma_{sp}\\cdot r_{sp,t-1}^2 \\cdot I_{sp,t-1}^{-} + \\beta_{sp} \\cdot \\sigma_{sp,t-1}^2\\\\\n",
    "&\\sigma_{jpm,t}^2 = \\omega_{jpm} + \\alpha_{jpm}\\cdot r_{jpm,t-1}^2 + \\gamma_{jpm}\\cdot r_{jpm,t-1}^2 \\cdot I_{jpm,t-1}^{-} + \\beta_{jpm} \\cdot \\sigma_{jpm,t-1}^2\\\\\n",
    "&Q_t = (1-a-b)\\cdot\\bar{Q} + a\\cdot\\epsilon_{t-1}\\epsilon_{t-1}' + b\\cdot Q_{t-1}\\\\\n",
    "&\\bar{Q} = \\dfrac{1}{T}\\sum_{t=1}^{T}\\epsilon_{t}\\epsilon_{t}', \\quad \\epsilon_{t} = \\left[\\begin{array}{c}\n",
    "     r_{sp,t}/\\sigma_{sp,t} \\\\\n",
    "     r_{jpm,t}/\\sigma_{jpm,t}\n",
    "     \\end{array}\\right]\n",
    "\\end{align}\n",
    "\n",
    "**The parameters to be optimized are**\n",
    "\n",
    "$\\omega_{sp},\\alpha_{sp},\\gamma_{sp},\\beta_{sp}$ **for the TGARCH(1,1,1) model fitting on the log return of S&P500 index,**\n",
    "\n",
    "$\\omega_{jpm},\\alpha_{jpm},\\gamma_{jpm},\\beta_{jpm}$ **for the TGARCH(1,1,1) model fitting on the log return of JP Morgan Chase & Co.,**\n",
    "\n",
    "**and $a,b$ for the DCC model fitting on the cross-correlation.**"
   ]
  },
  {
   "cell_type": "code",
   "execution_count": 8,
   "metadata": {},
   "outputs": [],
   "source": [
    "from DCC_GARCH.GARCH.GARCH import GARCH\n",
    "from DCC_GARCH.GARCH.GARCH_loss import garch_loss_gen"
   ]
  },
  {
   "cell_type": "code",
   "execution_count": 40,
   "metadata": {
    "scrolled": true
   },
   "outputs": [],
   "source": [
    "sp_model = GARCH(1,1)\n",
    "sp_model.set_loss(garch_loss_gen(1, 1))\n",
    "sp_model.set_max_itr(1)"
   ]
  },
  {
   "cell_type": "code",
   "execution_count": 41,
   "metadata": {},
   "outputs": [
    {
     "name": "stdout",
     "output_type": "stream",
     "text": [
      "Iteration: 1. Training loss: -2.157E+04.\n"
     ]
    },
    {
     "data": {
      "text/plain": [
       "[-21567.160758232643]"
      ]
     },
     "execution_count": 41,
     "metadata": {},
     "output_type": "execute_result"
    }
   ],
   "source": [
    "sp_model.fit(sp_return)"
   ]
  },
  {
   "cell_type": "code",
   "execution_count": 42,
   "metadata": {},
   "outputs": [
    {
     "data": {
      "text/plain": [
       "array([1.98324814e-05, 9.50397998e-02, 8.58304014e-02, 5.99576332e-01])"
      ]
     },
     "execution_count": 42,
     "metadata": {},
     "output_type": "execute_result"
    }
   ],
   "source": [
    "sp_model.get_theta()"
   ]
  },
  {
   "cell_type": "markdown",
   "metadata": {},
   "source": [
    "**Therefore, we have the fitted TGARCH(1,1,1) on the log return of S&P500 index:**\n",
    "\\begin{align}\n",
    "\\omega_{sp}&= 1.983e-05\\\\\n",
    "\\alpha_{sp}&= 0.0950\\\\\n",
    "\\gamma_{sp}&= 0.0858\\\\\n",
    "\\beta_{sp}&= 0.5996\n",
    "\\end{align}"
   ]
  },
  {
   "cell_type": "code",
   "execution_count": 43,
   "metadata": {},
   "outputs": [],
   "source": [
    "jpm_model = GARCH(1,1)\n",
    "jpm_model.set_loss(garch_loss_gen(1, 1))\n",
    "jpm_model.set_max_itr(1)"
   ]
  },
  {
   "cell_type": "code",
   "execution_count": 44,
   "metadata": {},
   "outputs": [
    {
     "name": "stdout",
     "output_type": "stream",
     "text": [
      "Iteration: 1. Training loss: -1.878E+04.\n"
     ]
    },
    {
     "data": {
      "text/plain": [
       "[-18779.847008676497]"
      ]
     },
     "execution_count": 44,
     "metadata": {},
     "output_type": "execute_result"
    }
   ],
   "source": [
    "jpm_model.fit(jpm_return)"
   ]
  },
  {
   "cell_type": "code",
   "execution_count": 45,
   "metadata": {},
   "outputs": [
    {
     "data": {
      "text/plain": [
       "array([7.41617844e-30, 1.33518229e-02, 3.10807721e-02, 9.71107791e-01])"
      ]
     },
     "execution_count": 45,
     "metadata": {},
     "output_type": "execute_result"
    }
   ],
   "source": [
    "jpm_model.get_theta()"
   ]
  },
  {
   "cell_type": "markdown",
   "metadata": {},
   "source": [
    "**Therefore, we have the fitted TGARCH(1,1,1) on the log return of JP Morgan Chase & Co.:**\n",
    "\\begin{align}\n",
    "\\omega_{jpm}&= 7.416e-30\\\\\n",
    "\\alpha_{jpm}&= 0.0134\\\\\n",
    "\\gamma_{jpm}&= 0.0311\\\\\n",
    "\\beta_{jpm} &= 0.9711\n",
    "\\end{align}"
   ]
  },
  {
   "cell_type": "code",
   "execution_count": 46,
   "metadata": {},
   "outputs": [],
   "source": [
    "sp_sigma = sp_model.sigma(sp_return)\n",
    "sp_epsilon = sp_return / sp_sigma"
   ]
  },
  {
   "cell_type": "code",
   "execution_count": 50,
   "metadata": {},
   "outputs": [],
   "source": [
    "jpm_sigma = jpm_model.sigma(jpm_return)\n",
    "jpm_epsilon = jpm_return / jpm_sigma"
   ]
  },
  {
   "cell_type": "code",
   "execution_count": 51,
   "metadata": {},
   "outputs": [],
   "source": [
    "epsilon = np.array([sp_epsilon,jpm_epsilon])"
   ]
  },
  {
   "cell_type": "code",
   "execution_count": 55,
   "metadata": {},
   "outputs": [],
   "source": [
    "from DCC_GARCH.DCC.DCC import DCC\n",
    "from DCC_GARCH.DCC.DCC_loss import dcc_loss_gen"
   ]
  },
  {
   "cell_type": "code",
   "execution_count": 58,
   "metadata": {},
   "outputs": [],
   "source": [
    "dcc_model = DCC()\n",
    "dcc_model.set_loss(dcc_loss_gen())"
   ]
  },
  {
   "cell_type": "code",
   "execution_count": 59,
   "metadata": {},
   "outputs": [
    {
     "name": "stderr",
     "output_type": "stream",
     "text": [
      "C:\\Users\\XSe\\Desktop\\Systemic Risk\\Python\\SRISK\\DCC_GARCH\\DCC\\DCC_loss.py:48: RuntimeWarning: invalid value encountered in log\n",
      "  loss += np.log(np.linalg.det(Ri)) + np.dot(np.dot(ei,Ri_),ei)\n"
     ]
    },
    {
     "name": "stdout",
     "output_type": "stream",
     "text": [
      "Optimization terminated successfully.    (Exit mode 0)\n",
      "            Current function value: 3277.8886747323145\n",
      "            Iterations: 23\n",
      "            Function evaluations: 105\n",
      "            Gradient evaluations: 23\n",
      "Iteration: 1. Training loss: 3.278E+03.\n",
      "Optimization terminated successfully.    (Exit mode 0)\n",
      "            Current function value: 3277.888674723196\n",
      "            Iterations: 1\n",
      "            Function evaluations: 10\n",
      "            Gradient evaluations: 1\n",
      "Iteration: 2. Training loss: 3.278E+03.\n"
     ]
    },
    {
     "data": {
      "text/plain": [
       "[3277.8886747323145, 3277.888674723196]"
      ]
     },
     "execution_count": 59,
     "metadata": {},
     "output_type": "execute_result"
    }
   ],
   "source": [
    "dcc_model.fit(epsilon)"
   ]
  },
  {
   "cell_type": "code",
   "execution_count": 60,
   "metadata": {},
   "outputs": [
    {
     "data": {
      "text/plain": [
       "array([0.01376197, 0.96359375])"
      ]
     },
     "execution_count": 60,
     "metadata": {},
     "output_type": "execute_result"
    }
   ],
   "source": [
    "dcc_model.get_ab()"
   ]
  },
  {
   "cell_type": "markdown",
   "metadata": {},
   "source": [
    "**Therefore, we have the fitted DCC(1,1) for the cross-correlation between the log returns of S&P500 index and of JP Morgan Chase & Co.:**\n",
    "\\begin{align}\n",
    "a &= 0.0138\\\\\n",
    "b&= 0.9636\n",
    "\\end{align}"
   ]
  }
 ],
 "metadata": {
  "kernelspec": {
   "display_name": "Python 3",
   "language": "python",
   "name": "python3"
  },
  "language_info": {
   "codemirror_mode": {
    "name": "ipython",
    "version": 3
   },
   "file_extension": ".py",
   "mimetype": "text/x-python",
   "name": "python",
   "nbconvert_exporter": "python",
   "pygments_lexer": "ipython3",
   "version": "3.6.2"
  }
 },
 "nbformat": 4,
 "nbformat_minor": 2
}
